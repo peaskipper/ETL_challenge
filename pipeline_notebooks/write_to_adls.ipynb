{
 "cells": [
  {
   "cell_type": "markdown",
   "id": "216c1633",
   "metadata": {},
   "source": [
    "### Imports"
   ]
  },
  {
   "cell_type": "code",
   "execution_count": null,
   "id": "85630ba0",
   "metadata": {},
   "outputs": [],
   "source": [
    "from pyspark.sql import SparkSession\n",
    "import os\n",
    "import sys\n",
    "# import pandas as pd\n",
    "# import pyspark\n",
    "\n",
    "dir_path = os.getcwd()\n",
    "root_path = os.path.abspath(os.path.join(dir_path, '..'))\n",
    "sys.path.append(root_path)\n",
    "\n",
    "from migration_library.main import tbl_parsed_dict, relation_fct_dict, relation_dim_dict, tbl_name_reformat"
   ]
  },
  {
   "cell_type": "code",
   "execution_count": null,
   "id": "49e882e9",
   "metadata": {},
   "outputs": [],
   "source": [
    "import secret_scope"
   ]
  },
  {
   "cell_type": "markdown",
   "id": "249dcdb6",
   "metadata": {},
   "source": [
    "### ADLS Connection"
   ]
  },
  {
   "cell_type": "code",
   "execution_count": null,
   "id": "e6538c3f",
   "metadata": {},
   "outputs": [],
   "source": [
    "storage_account = secret_scope.storage_account\n",
    "container_name = secret_scope.container_name\n",
    "path = secret_scope.path"
   ]
  },
  {
   "cell_type": "code",
   "execution_count": null,
   "id": "1def84b0",
   "metadata": {},
   "outputs": [],
   "source": [
    "spark = SparkSession.builder \\\n",
    "    .appName(\"sparkwriteapp\") \\\n",
    "    .getOrCreate()\n",
    "\n",
    "# Configure direct access via abfss\n",
    "spark.conf.set(f\"fs.azure.account.auth.type.{storage_account}.dfs.core.windows.net\", \"ManagedIdentity\")         # Assuming IAM is setup and configured\n",
    "spark.conf.set(\"fs.azure.account.oauth.msi.endpoint\", \"http://169.254.169.254/metadata/identity/oauth2/token\")"
   ]
  },
  {
   "cell_type": "markdown",
   "id": "c897daa7",
   "metadata": {},
   "source": [
    "### Write to ext location"
   ]
  },
  {
   "cell_type": "code",
   "execution_count": null,
   "id": "7db7e419",
   "metadata": {},
   "outputs": [],
   "source": [
    "# External table write location\n",
    "adls_path = f\"abfss://{container_name}@{storage_account}.dfs.core.windows.net/{path}\"\n",
    "\n",
    "# Catalog and schema information | Can be parameterised in actual usecase\n",
    "catalog_name = 'data_foundation_dev'\n",
    "schema_name = 'raw'"
   ]
  },
  {
   "cell_type": "code",
   "execution_count": null,
   "id": "0afe52e2",
   "metadata": {},
   "outputs": [],
   "source": [
    "for tbl, data in tbl_parsed_dict:\n",
    "    df = data['df']\n",
    "    tbl_name = tbl_name_reformat(tbl)\n",
    "\n",
    "    spark_df = spark.createDataFrame(df)\n",
    "    storage_path = f\"{adls_path}/{schema_name}/{tbl_name}\"\n",
    "\n",
    "    spark_df.write.format(format) \\\n",
    "            .mode(\"overwrite\") \\\n",
    "            .option(\"overwriteSchema\", \"true\") \\\n",
    "            .option(\"path\", adls_path) \\\n",
    "            .saveAsTable(f\"{catalog_name}.{schema_name}.{tbl_name}\")\n",
    "\n",
    "    print(f\"External table `{catalog_name}`.{schema_name}.{tbl_name} created successfully with data at {storage_path}.\")"
   ]
  }
 ],
 "metadata": {
  "kernelspec": {
   "display_name": "Python 3",
   "language": "python",
   "name": "python3"
  },
  "language_info": {
   "codemirror_mode": {
    "name": "ipython",
    "version": 3
   },
   "file_extension": ".py",
   "mimetype": "text/x-python",
   "name": "python",
   "nbconvert_exporter": "python",
   "pygments_lexer": "ipython3",
   "version": "3.10.6"
  }
 },
 "nbformat": 4,
 "nbformat_minor": 5
}
