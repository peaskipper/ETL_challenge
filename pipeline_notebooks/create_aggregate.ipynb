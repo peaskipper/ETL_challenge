{
 "cells": [
  {
   "cell_type": "code",
   "execution_count": null,
   "id": "12c27ab5",
   "metadata": {},
   "outputs": [],
   "source": [
    "import pyspark\n",
    "import json\n",
    "import os\n",
    "import re\n",
    "from pyspark.sql import SparkSession\n",
    "from pyspark.sql.fumctions import current_timestamp\n",
    "from delta_writer import add_key_hash, delta_overwrite, delta_upsert"
   ]
  },
  {
   "cell_type": "markdown",
   "id": "03f0c4b0",
   "metadata": {},
   "source": [
    "### Setup spark session"
   ]
  },
  {
   "cell_type": "code",
   "execution_count": null,
   "id": "d4a6d7e6",
   "metadata": {},
   "outputs": [],
   "source": [
    "spark = SparkSession.builder \\\n",
    "    .appName(\"MyDockerSparkApp\") \\\n",
    "    .config(\"spark.jars.packages\", \"org.apache.hadoop:hadoop-azure:3.3.0,com.microsoft.azure:azure-storage:8.6.6\") \\\n",
    "    .getOrCreate()\n",
    "\n",
    "# Debug via docker\n",
    "spark.conf.set(\"fs.azure.impl\", \"org.apache.hadoop.fs.azure.NativeAzureFileSystem\")\n",
    "print(\"PySpark version:\", pyspark.__version__)\n",
    "hadoop_version = spark.sparkContext._jvm.org.apache.hadoop.util.VersionInfo.getVersion()\n",
    "print(\"Hadoop version:\", hadoop_version)  "
   ]
  },
  {
   "cell_type": "markdown",
   "id": "3a76280d",
   "metadata": {},
   "source": [
    "### Create df as per SQL logic"
   ]
  },
  {
   "cell_type": "code",
   "execution_count": null,
   "id": "7557b2ad",
   "metadata": {},
   "outputs": [],
   "source": [
    "# Catalog and schema information | # Can optionally be used for schema and catalog cross checks\n",
    "catalog_name = 'data_foundation_dev'\n",
    "schema_name = 'raw'"
   ]
  },
  {
   "cell_type": "code",
   "execution_count": null,
   "id": "5560dd63",
   "metadata": {},
   "outputs": [],
   "source": [
    "# Get sql files with transformation logic to create aggregate tables\n",
    "\n",
    "sql_folder_path = '..\\\\sql_files_normalised\\\\'\n",
    "\n",
    "for file in os.listdir(sql_folder_path):\n",
    "    if file.endswith('.sql'):\n",
    "        with open(sql_folder_path+file, \"r\") as f:\n",
    "            sql_stmt = f.read()\n",
    "\n",
    "        tbl_name = file.strip('.sql')\n",
    "        env = spark.sql(f\"use catalog {catalog_name}\")\n",
    "        df = spark.sql(sql_stmt)\n",
    "\n",
    "        three_part_name = catalog_name + schema_name + tbl_name\n",
    "\n",
    "# Modify logic to accomodate composite keys and more complex SCD logic\n",
    "df = add_key_hash(df, df.columns[0])\n",
    "df = df.withColumn('_modified_date', current_timestamp())"
   ]
  },
  {
   "cell_type": "markdown",
   "id": "9ef14336",
   "metadata": {},
   "source": [
    "#### Write to UC"
   ]
  },
  {
   "cell_type": "code",
   "execution_count": null,
   "id": "f3230c40",
   "metadata": {},
   "outputs": [],
   "source": [
    "spark.conf.set(\"spark.sql.ansi.enabled\", \"false\")"
   ]
  },
  {
   "cell_type": "code",
   "execution_count": null,
   "id": "d5886a34",
   "metadata": {},
   "outputs": [],
   "source": [
    "# Write configs\n",
    "exists_table = True\n",
    "drop_table = False\n",
    "archive = 'upsert'"
   ]
  },
  {
   "cell_type": "code",
   "execution_count": null,
   "id": "96f5dcfe",
   "metadata": {},
   "outputs": [],
   "source": [
    "\n",
    "# Execute write operation | Modify for additonal SCD functionality\n",
    "if exists_table and not drop_table and archive.lower() in ('append', 'force_append'):\n",
    "    print(\"Write mode: Append\")\n",
    "    df.write.insertInto(f\"{three_part_name}\", overwrite=False)\n",
    "\n",
    "elif exists_table and not drop_table and archive.lower() == 'upsert':\n",
    "    print(\"Write mode: Upsert\")\n",
    "    delta_upsert(df, three_part_name)\n",
    "\n",
    "else:\n",
    "    print(\"Write mode: Overwrite\")\n",
    "    delta_overwrite(df, three_part_name)"
   ]
  }
 ],
 "metadata": {
  "kernelspec": {
   "display_name": "Python 3",
   "language": "python",
   "name": "python3"
  },
  "language_info": {
   "codemirror_mode": {
    "name": "ipython",
    "version": 3
   },
   "file_extension": ".py",
   "mimetype": "text/x-python",
   "name": "python",
   "nbconvert_exporter": "python",
   "pygments_lexer": "ipython3",
   "version": "3.10.6"
  }
 },
 "nbformat": 4,
 "nbformat_minor": 5
}
