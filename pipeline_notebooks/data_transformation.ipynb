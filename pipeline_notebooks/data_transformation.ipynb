{
 "cells": [
  {
   "cell_type": "markdown",
   "id": "216c1633",
   "metadata": {},
   "source": [
    "### Imports"
   ]
  },
  {
   "cell_type": "code",
   "execution_count": 2,
   "id": "51def5b9",
   "metadata": {},
   "outputs": [],
   "source": [
    "import pandas as pd\n",
    "import pyspark\n",
    "from pyspark.sql import SparkSession"
   ]
  },
  {
   "cell_type": "code",
   "execution_count": null,
   "id": "85630ba0",
   "metadata": {},
   "outputs": [],
   "source": [
    "import os\n",
    "import sys\n",
    "\n",
    "dir_path = os.getcwd()\n",
    "root_path = os.path.abspath(os.path.join(dir_path, '..'))\n",
    "sys.path.append(root_path)\n",
    "\n",
    "from migration_library.main import tbl_parsed_dict, relation_fct_dict, relation_dim_dict, tbl_name_reformat"
   ]
  },
  {
   "cell_type": "markdown",
   "id": "249dcdb6",
   "metadata": {},
   "source": [
    "### Setup spark session"
   ]
  },
  {
   "cell_type": "code",
   "execution_count": null,
   "id": "1def84b0",
   "metadata": {},
   "outputs": [],
   "source": [
    "spark = SparkSession.builder \\\n",
    "    .appName(\"MyDockerSparkApp\") \\\n",
    "    .config(\"spark.jars.packages\", \"org.apache.hadoop:hadoop-azure:3.3.0,com.microsoft.azure:azure-storage:8.6.6\") \\\n",
    "    .getOrCreate()\n",
    "\n",
    "# Debug via docker\n",
    "spark.conf.set(\"fs.azure.impl\", \"org.apache.hadoop.fs.azure.NativeAzureFileSystem\")\n",
    "print(\"PySpark version:\", pyspark.__version__)\n",
    "hadoop_version = spark.sparkContext._jvm.org.apache.hadoop.util.VersionInfo.getVersion()\n",
    "print(\"Hadoop version:\", hadoop_version)  "
   ]
  },
  {
   "cell_type": "markdown",
   "id": "c897daa7",
   "metadata": {},
   "source": [
    "### Read from UC"
   ]
  },
  {
   "cell_type": "code",
   "execution_count": null,
   "id": "7db7e419",
   "metadata": {},
   "outputs": [],
   "source": [
    "# Catalog and schema information | Can be parameterised in actual usecase\n",
    "catalog_name = 'data_foundation_dev'\n",
    "schema_name = 'raw'"
   ]
  }
 ],
 "metadata": {
  "kernelspec": {
   "display_name": "Python 3",
   "language": "python",
   "name": "python3"
  },
  "language_info": {
   "codemirror_mode": {
    "name": "ipython",
    "version": 3
   },
   "file_extension": ".py",
   "mimetype": "text/x-python",
   "name": "python",
   "nbconvert_exporter": "python",
   "pygments_lexer": "ipython3",
   "version": "3.10.6"
  }
 },
 "nbformat": 4,
 "nbformat_minor": 5
}
