{
 "cells": [
  {
   "cell_type": "markdown",
   "id": "216c1633",
   "metadata": {},
   "source": [
    "### Imports"
   ]
  },
  {
   "cell_type": "code",
   "execution_count": null,
   "id": "51def5b9",
   "metadata": {},
   "outputs": [],
   "source": [
    "import os\n",
    "import pyspark\n",
    "import json\n",
    "from pyspark.sql import SparkSession"
   ]
  },
  {
   "cell_type": "code",
   "execution_count": null,
   "id": "85630ba0",
   "metadata": {},
   "outputs": [],
   "source": [
    "# Get metadata for tables to check | Location can be parameterised\n",
    "\n",
    "metadata_path = '..\\\\output_obj\\\\tbl_metadata.json'\n",
    "\n",
    "with open(metadata_path, \"r\") as f:\n",
    "    metadata = json.load(f)\n",
    "\n",
    "print(\"Loaded JSON data:\", metadata)"
   ]
  },
  {
   "cell_type": "markdown",
   "id": "249dcdb6",
   "metadata": {},
   "source": [
    "### Setup spark session"
   ]
  },
  {
   "cell_type": "code",
   "execution_count": null,
   "id": "1def84b0",
   "metadata": {},
   "outputs": [],
   "source": [
    "spark = SparkSession.builder \\\n",
    "    .appName(\"MyDockerSparkApp\") \\\n",
    "    .config(\"spark.jars.packages\", \"org.apache.hadoop:hadoop-azure:3.3.0,com.microsoft.azure:azure-storage:8.6.6\") \\\n",
    "    .getOrCreate()\n",
    "\n",
    "# Debug via docker\n",
    "spark.conf.set(\"fs.azure.impl\", \"org.apache.hadoop.fs.azure.NativeAzureFileSystem\")\n",
    "print(\"PySpark version:\", pyspark.__version__)\n",
    "hadoop_version = spark.sparkContext._jvm.org.apache.hadoop.util.VersionInfo.getVersion()\n",
    "print(\"Hadoop version:\", hadoop_version)  "
   ]
  },
  {
   "cell_type": "markdown",
   "id": "c897daa7",
   "metadata": {},
   "source": [
    "### Create normalised tables"
   ]
  },
  {
   "cell_type": "code",
   "execution_count": null,
   "id": "7db7e419",
   "metadata": {},
   "outputs": [],
   "source": [
    "# Catalog and schema information | Can be parameterised in actual usecase\n",
    "catalog_name = 'data_foundation_dev'\n",
    "src_schema_name = 'raw'\n",
    "tgt_schema_name = 'stg'"
   ]
  },
  {
   "cell_type": "code",
   "execution_count": null,
   "id": "92c2df7e",
   "metadata": {},
   "outputs": [],
   "source": [
    "# Iterate through sql folder and run cts\n",
    "\n",
    "sql_path = '..\\\\sql_files_normalised\\\\'\n",
    "\n",
    "for file in os.listdir(sql_path):\n",
    "    if file.endswith(\".sql\"):\n",
    "        file_path = sql_path+file\n",
    "        with open(file_path, \"r\") as f:\n",
    "            ctas = f.read()\n",
    "            run = spark.sql(ctas)\n",
    "            print(f\"Tbl created: {file}\")"
   ]
  }
 ],
 "metadata": {
  "kernelspec": {
   "display_name": "Python 3",
   "language": "python",
   "name": "python3"
  },
  "language_info": {
   "codemirror_mode": {
    "name": "ipython",
    "version": 3
   },
   "file_extension": ".py",
   "mimetype": "text/x-python",
   "name": "python",
   "nbconvert_exporter": "python",
   "pygments_lexer": "ipython3",
   "version": "3.10.6"
  }
 },
 "nbformat": 4,
 "nbformat_minor": 5
}
