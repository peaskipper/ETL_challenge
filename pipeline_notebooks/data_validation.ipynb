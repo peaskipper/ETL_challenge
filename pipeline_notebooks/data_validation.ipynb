{
 "cells": [
  {
   "cell_type": "markdown",
   "id": "216c1633",
   "metadata": {},
   "source": [
    "### Imports"
   ]
  },
  {
   "cell_type": "code",
   "execution_count": 1,
   "id": "51def5b9",
   "metadata": {},
   "outputs": [],
   "source": [
    "import pandas as pd\n",
    "import pyspark\n",
    "from pyspark.sql import SparkSession\n",
    "import json"
   ]
  },
  {
   "cell_type": "code",
   "execution_count": 4,
   "id": "85630ba0",
   "metadata": {},
   "outputs": [
    {
     "name": "stdout",
     "output_type": "stream",
     "text": [
      "Loaded JSON data: {'fact_averagecosts_dlm': {'filename': 'fact.averagecosts.dlm', 'columns': ['fscldt_id', 'sku_id', 'average_unit_standardcost', 'average_unit_landedcost'], 'data_type': ['int', 'string', 'float', 'float'], 'pk': 'fscldt_id', 'fk': {'fscldt_id': 'hier_clnd_dlm', 'sku_id': 'hier_prod_dlm'}}, 'fact_transactions_dlm': {'filename': 'fact.transactions.dlm', 'columns': ['order_id', 'line_id', 'type', 'dt', 'pos_site_id', 'sku_id', 'fscldt_id', 'price_substate_id', 'sales_units', 'sales_dollars', 'discount_dollars', 'original_order_id', 'original_line_id'], 'data_type': ['int', 'int', 'string', 'string', 'string', 'string', 'int', 'string', 'int', 'float', 'float', 'float', 'float'], 'pk': 'order_id', 'fk': {'sku_id': 'hier_prod_dlm', 'fscldt_id': 'hier_clnd_dlm'}}, 'hier_clnd_dlm': {'filename': 'hier.clnd.dlm', 'columns': ['fscldt_id', 'fscldt_label', 'fsclwk_id', 'fsclwk_label', 'fsclmth_id', 'fsclmth_label', 'fsclqrtr_id', 'fsclqrtr_label', 'fsclyr_id', 'fsclyr_label', 'ssn_id', 'ssn_label', 'ly_fscldt_id', 'lly_fscldt_id', 'fscldow', 'fscldom', 'fscldoq', 'fscldoy', 'fsclwoy', 'fsclmoy', 'fsclqoy', 'date'], 'data_type': ['int', 'string', 'int', 'string', 'int', 'string', 'int', 'string', 'int', 'int', 'string', 'string', 'int', 'int', 'int', 'int', 'int', 'int', 'int', 'int', 'int', 'string'], 'pk': 'fscldt_id', 'fk': {}}, 'hier_hldy_dlm': {'filename': 'hier.hldy.dlm', 'columns': ['hldy_id', 'hldy_label'], 'data_type': ['string', 'string'], 'pk': 'hldy_id', 'fk': {}}, 'hier_invloc_dlm': {'filename': 'hier.invloc.dlm', 'columns': ['loc', 'loc_label', 'loctype', 'loctype_label'], 'data_type': ['int', 'string', 'string', 'string'], 'pk': 'loc', 'fk': {}}, 'hier_invstatus_dlm': {'filename': 'hier.invstatus.dlm', 'columns': ['code_id', 'code_label', 'bckt_id', 'bckt_label', 'ownrshp_id', 'ownrshp_label'], 'data_type': ['string', 'string', 'string', 'string', 'string', 'string'], 'pk': 'code_id', 'fk': {}}, 'hier_possite_dlm': {'filename': 'hier.possite.dlm', 'columns': ['site_id', 'site_label', 'subchnl_id', 'subchnl_label', 'chnl_id', 'chnl_label'], 'data_type': ['string', 'string', 'string', 'string', 'string', 'string'], 'pk': 'site_id', 'fk': {}}, 'hier_pricestate_dlm': {'filename': 'hier.pricestate.dlm', 'columns': ['substate_id', 'substate_label', 'state_id', 'state_label'], 'data_type': ['string', 'string', 'string', 'string'], 'pk': 'substate_id', 'fk': {}}, 'hier_prod_dlm': {'filename': 'hier.prod.dlm', 'columns': ['sku_id', 'sku_label', 'stylclr_id', 'stylclr_label', 'styl_id', 'styl_label', 'subcat_id', 'subcat_label', 'cat_id', 'cat_label', 'dept_id', 'dept_label', 'issvc', 'isasmbly', 'isnfs'], 'data_type': ['string', 'string', 'string', 'string', 'string', 'string', 'int', 'string', 'int', 'string', 'int', 'string', 'int', 'int', 'int'], 'pk': 'sku_id', 'fk': {}}, 'hier_rtlloc_dlm': {'filename': 'hier.rtlloc.dlm', 'columns': ['str', 'str_label', 'dstr', 'dstr_label', 'rgn', 'rgn_label'], 'data_type': ['int', 'string', 'int', 'string', 'int', 'string'], 'pk': 'str', 'fk': {}}}\n"
     ]
    }
   ],
   "source": [
    "# Get metadata for tables to check | Location can be parameterised\n",
    "\n",
    "metadata_path = '..\\\\output_obj\\\\tbl_metadata.json'\n",
    "\n",
    "with open(metadata_path, \"r\") as f:\n",
    "    metadata = json.load(f)\n",
    "\n",
    "print(\"Loaded JSON data:\", metadata)"
   ]
  },
  {
   "cell_type": "markdown",
   "id": "249dcdb6",
   "metadata": {},
   "source": [
    "### Setup spark session"
   ]
  },
  {
   "cell_type": "code",
   "execution_count": null,
   "id": "7541ffb0",
   "metadata": {},
   "outputs": [],
   "source": [
    "from pyspark.sql import SparkSession\n",
    "\n",
    "# spark = SparkSession.builder \\\n",
    "#     .appName(\"LocalTest\") \\\n",
    "#     .master(\"local[*]\") \\\n",
    "#     .getOrCreate()\n",
    "\n",
    "spark = SparkSession.builder \\\n",
    "    .appName(\"MyDockerSparkApp\") \\\n",
    "    .config(\"spark.jars.packages\", \"org.apache.hadoop:hadoop-azure:3.3.0,com.microsoft.azure:azure-storage:8.6.6\") \\\n",
    "    .getOrCreate()\n",
    "\n",
    "# Debug via docker\n",
    "spark.conf.set(\"fs.azure.impl\", \"org.apache.hadoop.fs.azure.NativeAzureFileSystem\")\n",
    "print(\"PySpark version:\", pyspark.__version__)\n",
    "hadoop_version = spark.sparkContext._jvm.org.apache.hadoop.util.VersionInfo.getVersion()\n",
    "print(\"Hadoop version:\", hadoop_version)  \n",
    "\n",
    "# spark.stop()"
   ]
  },
  {
   "cell_type": "markdown",
   "id": "c897daa7",
   "metadata": {},
   "source": [
    "### Read from UC"
   ]
  },
  {
   "cell_type": "code",
   "execution_count": null,
   "id": "7db7e419",
   "metadata": {},
   "outputs": [],
   "source": [
    "# Catalog and schema information | Can be parameterised in actual usecase\n",
    "catalog_name = 'data_foundation_dev'\n",
    "schema_name = 'raw'"
   ]
  },
  {
   "cell_type": "code",
   "execution_count": null,
   "id": "c9a8e528",
   "metadata": {},
   "outputs": [
    {
     "name": "stdout",
     "output_type": "stream",
     "text": [
      "{'fact_averagecosts_dlm': {'fscldt_id': 'hier_clnd_dlm', 'sku_id': 'hier_prod_dlm'}, 'fact_transactions_dlm': {'sku_id': 'hier_prod_dlm', 'fscldt_id': 'hier_clnd_dlm'}, 'hier_clnd_dlm': {}, 'hier_hldy_dlm': {}, 'hier_invloc_dlm': {}, 'hier_invstatus_dlm': {}, 'hier_possite_dlm': {}, 'hier_pricestate_dlm': {}, 'hier_prod_dlm': {}, 'hier_rtlloc_dlm': {}}\n"
     ]
    }
   ],
   "source": [
    "# Retrieve PK and FK from metadata\n",
    "pk = {i:j['pk'] for i, j in metadata.items()}\n",
    "fk = {i:j['fk'] for i, j in metadata.items()}"
   ]
  },
  {
   "cell_type": "code",
   "execution_count": null,
   "id": "3909b26c",
   "metadata": {},
   "outputs": [],
   "source": []
  }
 ],
 "metadata": {
  "kernelspec": {
   "display_name": "Python 3",
   "language": "python",
   "name": "python3"
  },
  "language_info": {
   "codemirror_mode": {
    "name": "ipython",
    "version": 3
   },
   "file_extension": ".py",
   "mimetype": "text/x-python",
   "name": "python",
   "nbconvert_exporter": "python",
   "pygments_lexer": "ipython3",
   "version": "3.10.6"
  }
 },
 "nbformat": 4,
 "nbformat_minor": 5
}
