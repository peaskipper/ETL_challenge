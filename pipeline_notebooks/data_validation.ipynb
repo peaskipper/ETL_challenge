{
 "cells": [
  {
   "cell_type": "markdown",
   "id": "216c1633",
   "metadata": {},
   "source": [
    "### Imports"
   ]
  },
  {
   "cell_type": "code",
   "execution_count": null,
   "id": "51def5b9",
   "metadata": {},
   "outputs": [],
   "source": [
    "import pyspark\n",
    "from pyspark.sql import SparkSession\n",
    "from pyspark.sql.functions import col, countDistinct, count, isnan, lit\n",
    "from pyspark.sql.utils import AnalysisException\n",
    "import json"
   ]
  },
  {
   "cell_type": "code",
   "execution_count": null,
   "id": "85630ba0",
   "metadata": {},
   "outputs": [],
   "source": [
    "# Get metadata for tables to check | Location can be parameterised\n",
    "\n",
    "metadata_path = '..\\\\output_obj\\\\tbl_metadata.json'\n",
    "\n",
    "with open(metadata_path, \"r\") as f:\n",
    "    metadata = json.load(f)\n",
    "\n",
    "print(\"Loaded JSON data:\", metadata)"
   ]
  },
  {
   "cell_type": "markdown",
   "id": "249dcdb6",
   "metadata": {},
   "source": [
    "### Setup spark session"
   ]
  },
  {
   "cell_type": "code",
   "execution_count": null,
   "id": "7541ffb0",
   "metadata": {},
   "outputs": [],
   "source": [
    "# spark = SparkSession.builder \\\n",
    "#     .appName(\"LocalTest\") \\\n",
    "#     .master(\"local[*]\") \\\n",
    "#     .getOrCreate()\n",
    "\n",
    "spark = SparkSession.builder \\\n",
    "    .appName(\"MyDockerSparkApp\") \\\n",
    "    .config(\"spark.jars.packages\", \"org.apache.hadoop:hadoop-azure:3.3.0,com.microsoft.azure:azure-storage:8.6.6\") \\\n",
    "    .getOrCreate()\n",
    "\n",
    "# Debug via docker\n",
    "spark.conf.set(\"fs.azure.impl\", \"org.apache.hadoop.fs.azure.NativeAzureFileSystem\")\n",
    "print(\"PySpark version:\", pyspark.__version__)\n",
    "hadoop_version = spark.sparkContext._jvm.org.apache.hadoop.util.VersionInfo.getVersion()\n",
    "print(\"Hadoop version:\", hadoop_version)  \n",
    "\n",
    "# spark.stop()"
   ]
  },
  {
   "cell_type": "markdown",
   "id": "c897daa7",
   "metadata": {},
   "source": [
    "### Read from UC"
   ]
  },
  {
   "cell_type": "code",
   "execution_count": null,
   "id": "7db7e419",
   "metadata": {},
   "outputs": [],
   "source": [
    "# Catalog and schema information | Can be parameterised in actual usecase\n",
    "catalog_name = 'data_foundation_dev'\n",
    "schema_name = 'raw'"
   ]
  },
  {
   "cell_type": "code",
   "execution_count": null,
   "id": "c9a8e528",
   "metadata": {},
   "outputs": [],
   "source": [
    "# Retrieve PK and FK from metadata\n",
    "pk = {i:j['pk'] for i, j in metadata.items()}\n",
    "fk = {i:j['fk'] for i, j in metadata.items()}"
   ]
  },
  {
   "cell_type": "code",
   "execution_count": null,
   "id": "3909b26c",
   "metadata": {},
   "outputs": [],
   "source": [
    "\n",
    "results = []\n",
    "\n",
    "tables = [t.name for t in spark.catalog_name.listTables(f\"{catalog_name}.{schema_name}\")]\n",
    "\n",
    "for tbl_name in tables:\n",
    "    three_pt_name = f\"{catalog_name}.{schema_name}.{tbl_name}\"\n",
    "    print(f\"Checking table: {three_pt_name}\")\n",
    "    table_result={}\n",
    "    \n",
    "    try:\n",
    "        df = spark.read.table(three_pt_name)\n",
    "        row_count = df.count()\n",
    "        table_result = {\"table\": tbl_name, \"row_count\": row_count}\n",
    "\n",
    "        # Check 1: Pk uniqueness\n",
    "        pk_col = pk[tbl_name]\n",
    "        pk_count = df.select(pk_col).dropDuplicates().count()\n",
    "        is_unique = pk_count == row_count\n",
    "        table_result[\"pk_check\"] = \"PASS\" if is_unique else \"FAIL\"\n",
    "\n",
    "        # Check 2: Not nulls\n",
    "        nulls = {col_name: df.filter(col(col_name).isNull() | isnan(col(col_name))).count() \n",
    "                 for col_name in df.columns}\n",
    "        null_columns = [k for k, v in nulls.items() if v > 0]\n",
    "        table_result[\"null_columns\"] = \", \".join(null_columns) if null_columns else \"None\"\n",
    "\n",
    "        # Check 3: Fk existence\n",
    "        fk_ref = fk[tbl_name]\n",
    "        if fk_ref:\n",
    "            fk_results = []\n",
    "            for fk_col, ref_table in fk_ref.items():\n",
    "                ref_df = spark.read.table(f\"{catalog_name}.{schema_name}.{ref_table}\")\n",
    "                missing_count = df.filter(~col(fk_col).isin(ref_df.select(fk_col).distinct().collect())).count()\n",
    "                fk_results.append(f\"{fk_col}: {'PASS' if missing_count == 0 else 'FAIL'}\")                          # TODO: validate\n",
    "            table_result[\"fk_check\"] = \", \".join(fk_results)\n",
    "        else:\n",
    "            table_result[\"fk_check\"] = \"SKIPPED\"\n",
    "\n",
    "        # Check 4: inferred data types\n",
    "        types = [f\"{f.name}:{f.dataType.simpleString()}\" for f in df.schema_name.fields]\n",
    "        table_result[\"columns\"] = \", \".join(types)                                                                  # TODO: comare with dtype col in metadata\n",
    "    \n",
    "    except AnalysisException as e:\n",
    "        table_result = {\n",
    "            \"table\": tbl_name,\n",
    "            \"error\": str(e)\n",
    "        }\n",
    "    \n",
    "    results.append(table_result)"
   ]
  }
 ],
 "metadata": {
  "kernelspec": {
   "display_name": "Python 3",
   "language": "python",
   "name": "python3"
  },
  "language_info": {
   "codemirror_mode": {
    "name": "ipython",
    "version": 3
   },
   "file_extension": ".py",
   "mimetype": "text/x-python",
   "name": "python",
   "nbconvert_exporter": "python",
   "pygments_lexer": "ipython3",
   "version": "3.10.6"
  }
 },
 "nbformat": 4,
 "nbformat_minor": 5
}
