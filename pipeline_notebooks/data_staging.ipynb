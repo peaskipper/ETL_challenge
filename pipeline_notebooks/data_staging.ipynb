{
 "cells": [
  {
   "cell_type": "markdown",
   "id": "216c1633",
   "metadata": {},
   "source": [
    "### Imports"
   ]
  },
  {
   "cell_type": "code",
   "execution_count": null,
   "id": "51def5b9",
   "metadata": {},
   "outputs": [],
   "source": [
    "import pandas as pd\n",
    "import pyspark\n",
    "import json\n",
    "import os\n",
    "import re\n",
    "from pyspark.sql import SparkSession"
   ]
  },
  {
   "cell_type": "code",
   "execution_count": null,
   "id": "85630ba0",
   "metadata": {},
   "outputs": [],
   "source": [
    "# Get metadata for tables to check | Location can be parameterised\n",
    "\n",
    "metadata_path = '..\\\\output_obj\\\\tbl_metadata.json'\n",
    "\n",
    "with open(metadata_path, \"r\") as f:\n",
    "    metadata = json.load(f)\n",
    "\n",
    "print(\"Loaded JSON data:\", metadata)"
   ]
  },
  {
   "cell_type": "markdown",
   "id": "249dcdb6",
   "metadata": {},
   "source": [
    "### Setup spark session"
   ]
  },
  {
   "cell_type": "code",
   "execution_count": null,
   "id": "1def84b0",
   "metadata": {},
   "outputs": [],
   "source": [
    "spark = SparkSession.builder \\\n",
    "    .appName(\"MyDockerSparkApp\") \\\n",
    "    .config(\"spark.jars.packages\", \"org.apache.hadoop:hadoop-azure:3.3.0,com.microsoft.azure:azure-storage:8.6.6\") \\\n",
    "    .getOrCreate()\n",
    "\n",
    "# Debug via docker\n",
    "spark.conf.set(\"fs.azure.impl\", \"org.apache.hadoop.fs.azure.NativeAzureFileSystem\")\n",
    "print(\"PySpark version:\", pyspark.__version__)\n",
    "hadoop_version = spark.sparkContext._jvm.org.apache.hadoop.util.VersionInfo.getVersion()\n",
    "print(\"Hadoop version:\", hadoop_version)  "
   ]
  },
  {
   "cell_type": "markdown",
   "id": "c897daa7",
   "metadata": {},
   "source": [
    "### Read from UC"
   ]
  },
  {
   "cell_type": "code",
   "execution_count": null,
   "id": "7db7e419",
   "metadata": {},
   "outputs": [],
   "source": [
    "# Catalog and schema information | # Can optionally be used for schema and catalog cross checks\n",
    "catalog_name = 'data_foundation_dev'\n",
    "schema_name = 'raw'"
   ]
  },
  {
   "cell_type": "code",
   "execution_count": null,
   "id": "bc33c6b0",
   "metadata": {},
   "outputs": [],
   "source": [
    "# Get sql files with create table stmt and iterate through sql folder to run cts\n",
    "\n",
    "sql_folder_path = '..\\\\sql_files_normalised\\\\'\n",
    "\n",
    "for file in os.listdir(sql_folder_path):\n",
    "    if file.endswith('.sql'):\n",
    "        with open(sql_folder_path+file, \"r\") as f:\n",
    "            sql_stmt = f.read()\n",
    "            ctas_pattern = r\"(?i)create\\s+(?:or replace\\s+)?(?P<is_temp>temp|temporary)?\\s*(?P<obj_type>table|view)\\s+(?P<obj_name>[\\w\\.\\[\\]]+)\\s+(?P<ctas>(?:as\\s+)?select\\s*)\"\n",
    "            if re.match(ctas_pattern, sql_stmt):\n",
    "                # Can optionally include schema and catalog cross checks\n",
    "                create = spark.sql_stmt(file)\n",
    "                print(f\"{file} table created\")\n",
    "            else:\n",
    "                print(f\"{file} create table statement format is incorrect\")\n",
    "\n"
   ]
  }
 ],
 "metadata": {
  "kernelspec": {
   "display_name": "Python 3",
   "language": "python",
   "name": "python3"
  },
  "language_info": {
   "codemirror_mode": {
    "name": "ipython",
    "version": 3
   },
   "file_extension": ".py",
   "mimetype": "text/x-python",
   "name": "python",
   "nbconvert_exporter": "python",
   "pygments_lexer": "ipython3",
   "version": "3.10.6"
  }
 },
 "nbformat": 4,
 "nbformat_minor": 5
}
