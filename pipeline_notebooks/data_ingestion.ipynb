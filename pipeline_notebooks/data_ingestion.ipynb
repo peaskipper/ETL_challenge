{
 "cells": [
  {
   "cell_type": "markdown",
   "id": "216c1633",
   "metadata": {},
   "source": [
    "### Imports"
   ]
  },
  {
   "cell_type": "code",
   "execution_count": null,
   "id": "85630ba0",
   "metadata": {},
   "outputs": [],
   "source": [
    "from pyspark.sql import SparkSession\n",
    "from pyspark.sql.fumctions import current_timestamp\n",
    "import os\n",
    "import sys\n",
    "import json\n",
    "# import pandas as pd\n",
    "# import pyspark\n",
    "import secret_scope\n",
    "\n",
    "dir_path = os.getcwd()\n",
    "root_path = os.path.abspath(os.path.join(dir_path, '..'))\n",
    "sys.path.append(root_path)\n",
    "\n",
    "from migration_library.main import tbl_parsed_dict, relation_fct_dict, relation_dim_dict, tbl_name_reformat"
   ]
  },
  {
   "cell_type": "markdown",
   "id": "249dcdb6",
   "metadata": {},
   "source": [
    "### ADLS Connection"
   ]
  },
  {
   "cell_type": "code",
   "execution_count": null,
   "id": "e6538c3f",
   "metadata": {},
   "outputs": [],
   "source": [
    "storage_account = secret_scope.storage_account\n",
    "container_name = secret_scope.container_name\n",
    "path = secret_scope.path"
   ]
  },
  {
   "cell_type": "code",
   "execution_count": null,
   "id": "1def84b0",
   "metadata": {},
   "outputs": [],
   "source": [
    "spark = SparkSession.builder \\\n",
    "    .appName(\"sparkwriteapp\") \\\n",
    "    .getOrCreate()\n",
    "\n",
    "# Configure direct access via abfss\n",
    "spark.conf.set(f\"fs.azure.account.auth.type.{storage_account}.dfs.core.windows.net\", \"ManagedIdentity\")         # Assuming IAM is setup and configured\n",
    "spark.conf.set(\"fs.azure.account.oauth.msi.endpoint\", \"http://169.254.169.254/metadata/identity/oauth2/token\")"
   ]
  },
  {
   "cell_type": "markdown",
   "id": "c897daa7",
   "metadata": {},
   "source": [
    "### Write to raw layer\n",
    "1. Create table in UC\n",
    "2. With data in external location\n",
    "3. Save metadata as json file"
   ]
  },
  {
   "cell_type": "code",
   "execution_count": null,
   "id": "7db7e419",
   "metadata": {},
   "outputs": [],
   "source": [
    "# External table write location\n",
    "adls_path = f\"abfss://{container_name}@{storage_account}.dfs.core.windows.net/{path}\"\n",
    "\n",
    "# Catalog and schema information | Can be parameterised in actual usecase\n",
    "catalog_name = 'data_foundation_dev'\n",
    "schema_name = 'raw'"
   ]
  },
  {
   "cell_type": "code",
   "execution_count": null,
   "id": "0afe52e2",
   "metadata": {},
   "outputs": [],
   "source": [
    "# Write tables to UC with data location specified\n",
    "for tbl, data in tbl_parsed_dict:\n",
    "    df = data['df']\n",
    "    tbl_name = tbl_name_reformat(tbl)\n",
    "\n",
    "    spark_df = spark.createDataFrame(df)\n",
    "    storage_path = f\"{adls_path}/{schema_name}/{tbl_name}\"\n",
    "\n",
    "    spark_df = spark_df.withColumn('_modified_date', current_timestamp())\n",
    "    spark_df.write.format(format) \\\n",
    "            .mode(\"overwrite\") \\\n",
    "            .option(\"overwriteSchema\", \"true\") \\\n",
    "            .option(\"path\", adls_path) \\\n",
    "            .saveAsTable(f\"{catalog_name}.{schema_name}.{tbl_name}\")\n",
    "    \n",
    "    print(f\"External table `{catalog_name}`.{schema_name}.{tbl_name} created successfully with data at {storage_path}.\")"
   ]
  },
  {
   "cell_type": "code",
   "execution_count": null,
   "id": "13050b83",
   "metadata": {},
   "outputs": [],
   "source": [
    "# Enforce keys\n",
    "\n",
    "for tbl, data in tbl_parsed_dict:\n",
    "    tbl_name = tbl_name_reformat(tbl)\n",
    "    key = data['pk']\n",
    "\n",
    "    enforce_pk = spark.sql(f\"\"\"ALTER TABLE {catalog_name}.{schema_name}.{tbl_name}\n",
    "                           ADD PRIMARY KEY ({key}) RELY;\"\"\")\n",
    "    print(f\"PK enforced for `{catalog_name}`.{schema_name}.{tbl_name}\")\n",
    "    \n",
    "for tbl, relation in relation_fct_dict:\n",
    "    tbl_name = tbl_name_reformat(tbl)\n",
    "\n",
    "    for key, nxt_tbl in relation:\n",
    "        enforce_fk = spark.sql(f\"\"\"ALTER TABLE {catalog_name}.{schema_name}.{tbl_name}\n",
    "                            ADD FOREIGN KEY ({key}) REFERENCES {catalog_name}.{schema_name}.{nxt_tbl}({key});\"\"\")\n",
    "\n",
    "        print(f\"FK enforced for `{catalog_name}`.{schema_name}.{tbl_name}\")"
   ]
  },
  {
   "cell_type": "code",
   "execution_count": null,
   "id": "5d819ab2",
   "metadata": {},
   "outputs": [],
   "source": [
    "# Save table metadata in workspace or volume for downstream use\n",
    "\n",
    "metadata_path = '..\\\\output_obj\\\\tbl_metadata.json'\n",
    "\n",
    "tbl_metadata = {}\n",
    "for tbl, data in tbl_parsed_dict.items():\n",
    "    tbl_name = tbl_name_reformat(tbl)\n",
    "    tbl_metadata[tbl_name] = {i:j for i,j in data.items() if i != 'df'}\n",
    "\n",
    "    try:\n",
    "        tbl_metadata[tbl_name]['fk'] = {i:tbl_name_reformat(j) for i,j in relation_fct_dict[tbl]}\n",
    "    except:\n",
    "        tbl_metadata[tbl_name]['fk'] = {}\n",
    "        # tbl_metadata[tbl]['fk'] = {i:j for i,j in relation_dim_dict[tbl]}\n",
    "\n",
    "with open(metadata_path, \"w\") as f:\n",
    "    json.dump(tbl_metadata, f, indent=2)\n",
    "\n",
    "print(f\"Metadata saved at {metadata_path}\")"
   ]
  }
 ],
 "metadata": {
  "kernelspec": {
   "display_name": "Python 3",
   "language": "python",
   "name": "python3"
  },
  "language_info": {
   "codemirror_mode": {
    "name": "ipython",
    "version": 3
   },
   "file_extension": ".py",
   "mimetype": "text/x-python",
   "name": "python",
   "nbconvert_exporter": "python",
   "pygments_lexer": "ipython3",
   "version": "3.10.6"
  }
 },
 "nbformat": 4,
 "nbformat_minor": 5
}
